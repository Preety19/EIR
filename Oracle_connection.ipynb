{
 "cells": [
  {
   "cell_type": "code",
   "execution_count": null,
   "id": "be3adf89",
   "metadata": {},
   "outputs": [],
   "source": [
    "from datetime import datetime\n",
    "today = str(datetime.now().date())"
   ]
  },
  {
   "cell_type": "code",
   "execution_count": null,
   "id": "611a0546",
   "metadata": {},
   "outputs": [],
   "source": [
    "jdbcDF.write.parquet(f'account_{today}')"
   ]
  },
  {
   "cell_type": "code",
   "execution_count": null,
   "id": "b5b4e21f",
   "metadata": {},
   "outputs": [],
   "source": [
    "df = pd.read_parquet(f'account_{today}/part-00000-2f76f435-9034-4e1a-8c9e-a42b3ea47717-c000.snappy.parquet', engine='fastparquet')"
   ]
  },
  {
   "cell_type": "code",
   "execution_count": null,
   "id": "f492147a",
   "metadata": {},
   "outputs": [],
   "source": [
    "df.dtypes"
   ]
  },
  {
   "cell_type": "code",
   "execution_count": null,
   "id": "68635d98",
   "metadata": {},
   "outputs": [],
   "source": [
    "df.head()"
   ]
  },
  {
   "cell_type": "code",
   "execution_count": null,
   "id": "1098f82c",
   "metadata": {},
   "outputs": [],
   "source": [
    "df.shape"
   ]
  },
  {
   "cell_type": "code",
   "execution_count": null,
   "id": "85619b31",
   "metadata": {},
   "outputs": [],
   "source": [
    "df.columns"
   ]
  },
  {
   "cell_type": "code",
   "execution_count": null,
   "id": "87eee433",
   "metadata": {},
   "outputs": [],
   "source": []
  }
 ],
 "metadata": {
  "kernelspec": {
   "display_name": "Python 3 (ipykernel)",
   "language": "python",
   "name": "python3"
  },
  "language_info": {
   "codemirror_mode": {
    "name": "ipython",
    "version": 3
   },
   "file_extension": ".py",
   "mimetype": "text/x-python",
   "name": "python",
   "nbconvert_exporter": "python",
   "pygments_lexer": "ipython3",
   "version": "3.9.12"
  }
 },
 "nbformat": 4,
 "nbformat_minor": 5
}
