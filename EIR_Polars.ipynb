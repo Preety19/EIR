{
 "cells": [
  {
   "cell_type": "code",
   "execution_count": 1,
   "id": "3ab28fb9",
   "metadata": {},
   "outputs": [],
   "source": [
    "import polars as pl"
   ]
  },
  {
   "cell_type": "code",
   "execution_count": 7,
   "id": "5a918416",
   "metadata": {},
   "outputs": [
    {
     "data": {
      "text/html": [
       "<div><style>\n",
       ".dataframe > thead > tr > th,\n",
       ".dataframe > tbody > tr > td {\n",
       "  text-align: right;\n",
       "}\n",
       "</style>\n",
       "<small>shape: (5, 12)</small><table border=\"1\" class=\"dataframe\"><thead><tr><th>ASSESSMENT_DATE</th><th>ACCOUNT_NUMBER</th><th>CASH_FLOW_DATE</th><th>PRINCIPAL_AMOUNT</th><th>INTEREST_AMOUNT</th><th>REPAYMENT_AMOUNT</th><th>DISBURSED_AMOUNT</th><th>PARTIAL_AMOUNT</th><th>FEE_CHARGE</th><th>CONTRACTUAL_INTEREST_RATE</th><th>CURRENCY_ID</th><th>DAY_COUNT_BASIS</th></tr><tr><td>str</td><td>i64</td><td>str</td><td>f64</td><td>f64</td><td>f64</td><td>f64</td><td>f64</td><td>f64</td><td>f64</td><td>f64</td><td>i64</td></tr></thead><tbody><tr><td>&quot;2023-02-27 18:…</td><td>624011221310001</td><td>&quot;2024-05-16 18:…</td><td>166.67</td><td>24.27</td><td>190.94</td><td>0.0</td><td>0.0</td><td>0.0</td><td>14.4</td><td>1.0</td><td>360</td></tr><tr><td>&quot;2023-02-27 18:…</td><td>624011221310001</td><td>&quot;2024-11-17 18:…</td><td>166.67</td><td>14.93</td><td>181.6</td><td>0.0</td><td>0.0</td><td>0.0</td><td>14.4</td><td>1.0</td><td>360</td></tr><tr><td>&quot;2023-02-27 18:…</td><td>624011221310001</td><td>&quot;2023-06-19 18:…</td><td>166.67</td><td>54.4</td><td>221.07</td><td>0.0</td><td>0.0</td><td>0.0</td><td>14.4</td><td>1.0</td><td>360</td></tr><tr><td>&quot;2023-02-27 18:…</td><td>624011221310001</td><td>&quot;2025-03-16 18:…</td><td>166.67</td><td>5.6</td><td>172.27</td><td>0.0</td><td>0.0</td><td>0.0</td><td>14.4</td><td>1.0</td><td>360</td></tr><tr><td>&quot;2023-02-27 18:…</td><td>624011221310001</td><td>&quot;2024-07-16 18:…</td><td>166.67</td><td>22.0</td><td>188.67</td><td>0.0</td><td>0.0</td><td>0.0</td><td>14.4</td><td>1.0</td><td>360</td></tr></tbody></table></div>"
      ],
      "text/plain": [
       "shape: (5, 12)\n",
       "┌────────────┬────────────┬────────────┬────────────┬───┬──────────┬────────────┬───────────┬────────────┐\n",
       "│ ASSESSMENT ┆ ACCOUNT_NU ┆ CASH_FLOW_ ┆ PRINCIPAL_ ┆ … ┆ FEE_CHAR ┆ CONTRACTUA ┆ CURRENCY_ ┆ DAY_COUNT_ │\n",
       "│ _DATE      ┆ MBER       ┆ DATE       ┆ AMOUNT     ┆   ┆ GE       ┆ L_INTEREST ┆ ID        ┆ BASIS      │\n",
       "│ ---        ┆ ---        ┆ ---        ┆ ---        ┆   ┆ ---      ┆ _RATE      ┆ ---       ┆ ---        │\n",
       "│ str        ┆ i64        ┆ str        ┆ f64        ┆   ┆ f64      ┆ ---        ┆ f64       ┆ i64        │\n",
       "│            ┆            ┆            ┆            ┆   ┆          ┆ f64        ┆           ┆            │\n",
       "╞════════════╪════════════╪════════════╪════════════╪═══╪══════════╪════════════╪═══════════╪════════════╡\n",
       "│ 2023-02-27 ┆ 6240112213 ┆ 2024-05-16 ┆ 166.67     ┆ … ┆ 0.0      ┆ 14.4       ┆ 1.0       ┆ 360        │\n",
       "│ 18:30:00   ┆ 10001      ┆ 18:30:00   ┆            ┆   ┆          ┆            ┆           ┆            │\n",
       "│ 2023-02-27 ┆ 6240112213 ┆ 2024-11-17 ┆ 166.67     ┆ … ┆ 0.0      ┆ 14.4       ┆ 1.0       ┆ 360        │\n",
       "│ 18:30:00   ┆ 10001      ┆ 18:30:00   ┆            ┆   ┆          ┆            ┆           ┆            │\n",
       "│ 2023-02-27 ┆ 6240112213 ┆ 2023-06-19 ┆ 166.67     ┆ … ┆ 0.0      ┆ 14.4       ┆ 1.0       ┆ 360        │\n",
       "│ 18:30:00   ┆ 10001      ┆ 18:30:00   ┆            ┆   ┆          ┆            ┆           ┆            │\n",
       "│ 2023-02-27 ┆ 6240112213 ┆ 2025-03-16 ┆ 166.67     ┆ … ┆ 0.0      ┆ 14.4       ┆ 1.0       ┆ 360        │\n",
       "│ 18:30:00   ┆ 10001      ┆ 18:30:00   ┆            ┆   ┆          ┆            ┆           ┆            │\n",
       "│ 2023-02-27 ┆ 6240112213 ┆ 2024-07-16 ┆ 166.67     ┆ … ┆ 0.0      ┆ 14.4       ┆ 1.0       ┆ 360        │\n",
       "│ 18:30:00   ┆ 10001      ┆ 18:30:00   ┆            ┆   ┆          ┆            ┆           ┆            │\n",
       "└────────────┴────────────┴────────────┴────────────┴───┴──────────┴────────────┴───────────┴────────────┘"
      ]
     },
     "execution_count": 7,
     "metadata": {},
     "output_type": "execute_result"
    }
   ],
   "source": [
    "df = pl.read_csv('Dummy_EIR_Test_Data_3.csv')\n",
    "df.head()"
   ]
  },
  {
   "cell_type": "code",
   "execution_count": 9,
   "id": "c50edf73",
   "metadata": {},
   "outputs": [],
   "source": [
    "P = pl.Series([0] * len(df['REPAYMENT_AMOUNT']))"
   ]
  },
  {
   "cell_type": "code",
   "execution_count": 14,
   "id": "8dd551c7",
   "metadata": {},
   "outputs": [
    {
     "data": {
      "text/plain": [
       "14.93"
      ]
     },
     "execution_count": 14,
     "metadata": {},
     "output_type": "execute_result"
    }
   ],
   "source": [
    "df['INTEREST_AMOUNT'][1]"
   ]
  },
  {
   "cell_type": "code",
   "execution_count": 12,
   "id": "0a8a679c",
   "metadata": {},
   "outputs": [
    {
     "data": {
      "text/plain": [
       "polars.series.series.Series"
      ]
     },
     "execution_count": 12,
     "metadata": {},
     "output_type": "execute_result"
    }
   ],
   "source": [
    "type(P)"
   ]
  },
  {
   "cell_type": "code",
   "execution_count": 13,
   "id": "5876b3b5",
   "metadata": {},
   "outputs": [
    {
     "data": {
      "text/plain": [
       "0"
      ]
     },
     "execution_count": 13,
     "metadata": {},
     "output_type": "execute_result"
    }
   ],
   "source": [
    "P[0] = -1 "
   ]
  },
  {
   "cell_type": "code",
   "execution_count": 2,
   "id": "ecdba1b3",
   "metadata": {},
   "outputs": [],
   "source": [
    "def EIR(INT_RTE, Total_Repayment, Principle_disbu, Principle_prepay, Proces_fee, Day_count_Basis, No_of_days, retu_type):\n",
    "    P = pl.Series([0] * len(Principle_disbu))\n",
    "    A = pl.Series([0] * len(Principle_disbu))\n",
    "    E = pl.Series([0] * len(Principle_disbu))\n",
    "\n",
    "    P[0] = (-1 * Principle_disbu[0]) - Proces_fee[0]\n",
    "    E[0] = (P[0] * INT_RTE) / Day_count_Basis[0] * (No_of_days[0])\n",
    "    A[0] = E[0]\n",
    "\n",
    "    for i in range(1, len(Principle_disbu)):\n",
    "        if Total_Repayment[i] == 0:\n",
    "            P[i] = P[i-1] - Proces_fee[i] - Principle_disbu[i] - Principle_prepay[i]\n",
    "            E[i] = ((P[i-1]) * INT_RTE) / Day_count_Basis[i] * (No_of_days[i])\n",
    "            A[i] = A[i-1] + E[i]\n",
    "        else:\n",
    "            E[i] = ((P[i-1]) * INT_RTE) / Day_count_Basis[i] * No_of_days[i]\n",
    "            A[i] = 0\n",
    "            P[i] = P[i-1] - (Proces_fee[i] + Principle_disbu[i] + Principle_prepay[i]) - (Total_Repayment[i] - A[i-1] - E[i])\n",
    "    #print(P[-1])\n",
    "    if retu_type == 1:\n",
    "        return pl.DataFrame({\"P\": P, \"E\": E, \"A\": A})\n",
    "    else:\n",
    "        return P[-1]"
   ]
  },
  {
   "cell_type": "code",
   "execution_count": 3,
   "id": "94fc4dc1",
   "metadata": {},
   "outputs": [],
   "source": [
    "def EIR(INT_RTE, Total_Repayment, Principle_disbu, Principle_prepay, Proces_fee, Day_count_Basis, No_of_days, retu_type):\n",
    "    P = [0] * len(Principle_disbu)\n",
    "    A = [0] * len(Principle_disbu)\n",
    "    E = [0] * len(Principle_disbu)\n",
    "\n",
    "    P[0] = (-1 * Principle_disbu[0]) - Proces_fee[0]\n",
    "    E[0] = (P[0] * INT_RTE) / Day_count_Basis[0] * (No_of_days[0])\n",
    "    A[0] = E[0]\n",
    "\n",
    "    for i in range(1, len(Principle_disbu)):\n",
    "        if Total_Repayment[i] == 0:\n",
    "            P[i] = P[i-1] - Proces_fee[i] - Principle_disbu[i] - Principle_prepay[i]\n",
    "            E[i] = ((P[i-1]) * INT_RTE) / Day_count_Basis[i] * (No_of_days[i])\n",
    "            A[i] = A[i-1] + E[i]\n",
    "        else:\n",
    "            E[i] = ((P[i-1]) * INT_RTE) / Day_count_Basis[i] * No_of_days[i]\n",
    "            A[i] = 0\n",
    "            P[i] = P[i-1] - (Proces_fee[i] + Principle_disbu[i] + Principle_prepay[i]) - (Total_Repayment[i] - A[i-1] - E[i])\n",
    "    #print(P[-1])\n",
    "    if retu_type == 1:\n",
    "        return pd.DataFrame({\"P\": P, \"E\": E, \"A\": A})\n",
    "    else:\n",
    "        return P[-1]\n"
   ]
  },
  {
   "cell_type": "code",
   "execution_count": 4,
   "id": "0005f972",
   "metadata": {},
   "outputs": [],
   "source": [
    "import polars as pl\n",
    "\n",
    "def adjusted_intrest(INT_RTE, Total_Repayment, Principle_disbu, Principle_prepay, Proces_fee, Day_count_Basis, No_of_days, retu_type):\n",
    "    int_r = INT_RTE # 0.18\n",
    "    retr = EIR(INT_RTE,Total_Repayment,Principle_disbu,Principle_prepay,Proces_fee,Day_count_Basis\n",
    "                              ,No_of_days,retu_type)\n",
    "    X = 0\n",
    "    M = 0\n",
    "    for i in range (3,15):\n",
    "        while retr < 0:\n",
    "            M = int_r\n",
    "            int_r  =  int_r + X/(10**i)\n",
    "            retr = EIR(int_r,Total_Repayment,Principle_disbu,Principle_prepay,Proces_fee,Day_count_Basis\n",
    "                              ,No_of_days,retu_type)\n",
    "            X += 1\n",
    "\n",
    "        int_r = M + (X-1)/(10**i)\n",
    "        retr = EIR(int_r,Total_Repayment,Principle_disbu,Principle_prepay,Proces_fee,Day_count_Basis\n",
    "                              ,No_of_days,retu_type)\n",
    "        #print(f'Last retr value is {retr}')\n",
    "    return (int_r)"
   ]
  },
  {
   "cell_type": "code",
   "execution_count": 5,
   "id": "c061b5b4",
   "metadata": {},
   "outputs": [
    {
     "ename": "SyntaxError",
     "evalue": "invalid syntax (1939437108.py, line 80)",
     "output_type": "error",
     "traceback": [
      "\u001b[0;36m  Cell \u001b[0;32mIn[5], line 80\u001b[0;36m\u001b[0m\n\u001b[0;31m    .then ((pl.col(\"Y_Expense\") - pl.col(\"Y_AIR\")).alias(\"Y_AIR\") & (pl.col( \"Intrest_Amount\")= 0))  \\\u001b[0m\n\u001b[0m                                                                                              ^\u001b[0m\n\u001b[0;31mSyntaxError\u001b[0m\u001b[0;31m:\u001b[0m invalid syntax\n"
     ]
    }
   ],
   "source": [
    "    Y = P11.groupby('Month').agg(pl.col('rank').max())\n",
    "    distinct_months = Y.to_series(1).unique()\n",
    "    distinct_rank = Y.to_series(2)    \n",
    "    \n",
    "    dates = pl.Series([])\n",
    "    period1_l = pl.Series([])\n",
    "    period2_l = pl.Series([])\n",
    "    period3_l = pl.Series([])\n",
    "    period4_l = pl.Series([])\n",
    "    period5_l = pl.Series([])\n",
    "    period6_l = pl.Series([])\n",
    "    expense_l = pl.Series([])\n",
    "    expense_eir_l = pl.Series([])\n",
    "    air_l = pl.Series([])\n",
    "    air_eir_l = pl.Series([])\n",
    "            \n",
    "    for i in range(len(distinct_months)):\n",
    "        filter_df = P11.filter(pl.col('Month') == distinct_months[i])\n",
    "        date = filter_df.filter(pl.col('Date_Type_CBS').is_in(['Cashflow.Date', 'Date_Filler']))['Date'].max()\n",
    "        period1 = filter_df.filter(pl.col('rank') == 1)['Period_Days'].max()\n",
    "        period2 = filter_df.filter(pl.col('rank') == 2)['Period_Days'].max()\n",
    "        period3 = filter_df.filter(pl.col('rank') == 3)['Period_Days'].max()\n",
    "        period4 = filter_df.filter(pl.col('rank') == 4)['Period_Days'].max()\n",
    "        period5 = filter_df.filter(pl.col('rank') == 5)['Period_Days'].max()\n",
    "        period6 = filter_df.filter(pl.col('rank') == 6)['Period_Days'].max()\n",
    "        expense = filter_df.select(pl.sum(\"Expense\"))\n",
    "        eir = filter_df.select(pl.sum(\"EIR_Expense\"))\n",
    "        air = filter_df.filter(~pl.col('rank').is_in([distinct_rank[0]]) & pl.col('Repayment.Amount') == 0, 'Expense').sum()\n",
    "        air_eir = filter_df.filter(~pl.col('rank').is_in([distinct_rank[0]]) & pl.col('Repayment.Amount') == 0, 'EIR_Expense').sum()\n",
    "\n",
    "        dates.append(date)\n",
    "        period1_l.append(period1)\n",
    "        period2_l.append(period2)\n",
    "        period3_l.append(period3)\n",
    "        period4_l.append(period4)\n",
    "        period5_l.append(period5)\n",
    "        period6_l.append(period6)\n",
    "        expense_l.append(expense)\n",
    "        expense_eir_l.append(eir)\n",
    "        air_l.append(air)\n",
    "        air_eir_l.append(air_eir)\n",
    "        \n",
    "    Y = Y.with_columns('Cash_Flow_Date', dates)\n",
    "    Y = Y.with_columns('Period 1', period1_l)\n",
    "    Y = Y.with_columns('Period 2', period2_l)\n",
    "    Y = Y.with_columns('Period 3', period3_l)\n",
    "    Y = Y.with_columns('Period 4', period4_l)\n",
    "    Y = Y.with_columns('Period 5', period5_l)\n",
    "    Y = Y.with_columns('Period 6', period6_l)\n",
    "    Y = Y.with_columns('Y_Expense', expense_l)\n",
    "    Y = Y.with_columns('Y_Expense_EIR', expense_eir_l)\n",
    "    Y = Y.with_columns('Y_AIR', air_l)\n",
    "    Y = Y.with_columns('Y_AIR_EIR', air_eir_l)\n",
    "    \n",
    "    CBS_subset['CashFlow.Date'] = CBS_subset['CashFlow.Date'].str.to_datetime()\n",
    "    temp_df = CBS_subset.join(Y, on='CashFlow.Date', how='left', force_orthogonal=True)\n",
    "    P11_subset = P11[P11['Date_Type_CBS'].is_in(['Cashflow.Date','Date_Filter'])]\n",
    "    \n",
    "    df = df.with_columns((pl.col(\"Y_Expense_EIR\") - pl.col(\"Y_AIR_EIR\")).alias(\"Intrest\"))\n",
    "    df['Intrest'].fill_nan(0)\n",
    "    interest_value = 0\n",
    "    df = df.with_columns(pl.lit(interest_value).alias('Intrest_Amount'))\n",
    "    \n",
    " ####for loop part remaining \n",
    "    for i in range(1,len(final_df)):\n",
    "                final_df['Intrest_Amount'][i] = final_df['Intrest'][i] + final_df['Y_AIR_EIR'][i]\n",
    "                if final_df['Date_Type'][i] == \"Date_Filler\":\n",
    "                    final_df['Y_AIR'][i] = final_df['Y_Expense'][i] + final_df['Y_AIR'][i-1]\n",
    "                    final_df['Y_AIR_EIR'][i] = final_df['Y_Expense_EIR'][i] + final_df['Y_AIR_EIR'][i-1]\n",
    "                else:\n",
    "                    final_df['Y_AIR'][i] = final_df['Y_AIR'][i] \n",
    "                    final_df['Y_AIR_EIR'][i] = final_df['Y_AIR_EIR'][i] \n",
    "\n",
    "\n",
    "\n",
    "    df = df.with_columns((pl.col(\"Intrest\") - pl.col(\"Y_AIR_EIR\")).alias(\"Intrest_Amount\"))\n",
    "    \n",
    "    df = df.with_columns(\n",
    "        pl.when (pl.col('Date_Type') == \"Date_Filler\") \\\n",
    "        .then ((pl.col(\"Y_Expense\") - pl.col(\"Y_AIR\")).alias(\"Y_AIR\") & (pl.col( \"Intrest_Amount\") = 0))  \\\n",
    "        .otherwise ((pl.col('Y_AIR') = pl.col('Y_AIR')) & (pl.col('Y_AIR_EIR') = pl.col('Y_AIR_EIR'))))                \n",
    "   \n",
    "    \n",
    "    df = df.with_columns((pl.col(\"Repayment.Amount\") - pl.col(\"Intrest_Amount\")).alias(\"Principal Installment\"))\n",
    "                        \n",
    "    df = df.with_columns(\n",
    "        pl.when (pl.col('Repayment.Amount') == 0) \\\n",
    "        .then ((pl.col('Principal Installment') = 0) & (pl.col( \"Intrest_Amount\")= 0)))                \n",
    "\n",
    "    \n",
    "    df = df.with_columns(pl.lit(revised_intrest_rate).alias('Effective_Rate'))\n",
    "    df['LoanAccount'] = CBS_subset['Loan.Account']         ####### Doubt\n",
    "    period1_l.append(period1)\n",
    "    "
   ]
  },
  {
   "cell_type": "code",
   "execution_count": null,
   "id": "2ae8c831",
   "metadata": {},
   "outputs": [],
   "source": [
    "['date', 'fine']"
   ]
  },
  {
   "cell_type": "code",
   "execution_count": null,
   "id": "b2efa624",
   "metadata": {},
   "outputs": [],
   "source": [
    "df = pl.read_csv('Dummy_EIR_Test_Data.csv')"
   ]
  },
  {
   "cell_type": "code",
   "execution_count": null,
   "id": "0703d63f",
   "metadata": {},
   "outputs": [],
   "source": [
    "df.head()"
   ]
  },
  {
   "cell_type": "code",
   "execution_count": null,
   "id": "592a226f",
   "metadata": {},
   "outputs": [],
   "source": [
    "df = df.with_columns((pl.col(\"REPAYMENT_AMOUNT\") - pl.col(\"CURRENCY_ID\")).alias(\"a^2\"))\n",
    "df['a^2'].fill_nan(0)"
   ]
  },
  {
   "cell_type": "code",
   "execution_count": null,
   "id": "964b71d6",
   "metadata": {},
   "outputs": [],
   "source": [
    "df.head()"
   ]
  },
  {
   "cell_type": "code",
   "execution_count": null,
   "id": "be8b80fc",
   "metadata": {},
   "outputs": [],
   "source": [
    "df.head()"
   ]
  },
  {
   "cell_type": "code",
   "execution_count": null,
   "id": "a888aae2",
   "metadata": {},
   "outputs": [],
   "source": [
    "df = df.withColumn(\"users\", df[\"users\"].cast(IntegerType()))\n",
    "df = df.withColumn(\"sales\", df[\"sales\"].cast(IntegerType()))\n",
    "df['buy_rate'] = df['sales']/ df['users']"
   ]
  },
  {
   "cell_type": "code",
   "execution_count": null,
   "id": "668deba9",
   "metadata": {},
   "outputs": [],
   "source": [
    "df['PRINCIPAL_AMOUNT'].max()"
   ]
  },
  {
   "cell_type": "code",
   "execution_count": null,
   "id": "251e74b5",
   "metadata": {},
   "outputs": [],
   "source": [
    "df.filter(pl.col(\"DAY_COUNT_BASIS\").is_in"
   ]
  },
  {
   "cell_type": "code",
   "execution_count": null,
   "id": "6401f9cc",
   "metadata": {},
   "outputs": [],
   "source": [
    "final_df['Intrest'] = final_df['Y_Expense_EIR'] - final_df['Y_AIR_EIR']"
   ]
  }
 ],
 "metadata": {
  "kernelspec": {
   "display_name": "Python 3 (ipykernel)",
   "language": "python",
   "name": "python3"
  },
  "language_info": {
   "codemirror_mode": {
    "name": "ipython",
    "version": 3
   },
   "file_extension": ".py",
   "mimetype": "text/x-python",
   "name": "python",
   "nbconvert_exporter": "python",
   "pygments_lexer": "ipython3",
   "version": "3.9.12"
  }
 },
 "nbformat": 4,
 "nbformat_minor": 5
}
